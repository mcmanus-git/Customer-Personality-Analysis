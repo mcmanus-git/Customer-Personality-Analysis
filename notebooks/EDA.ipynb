{
 "cells": [
  {
   "cell_type": "markdown",
   "source": [
    "Data in this analysis is from the [Customer Personality Analysis on Kaggle](https://www.kaggle.com/datasets/imakash3011/customer-personality-analysis). The dataset is stored in `../data/marketing_campaign.csv`"
   ],
   "metadata": {
    "collapsed": false,
    "pycharm": {
     "name": "#%% md\n"
    }
   }
  },
  {
   "cell_type": "code",
   "execution_count": 2,
   "outputs": [],
   "source": [
    "import pandas as pd"
   ],
   "metadata": {
    "collapsed": false,
    "pycharm": {
     "name": "#%%\n"
    }
   }
  },
  {
   "cell_type": "code",
   "execution_count": 6,
   "outputs": [
    {
     "data": {
      "text/plain": "         ID  Year_Birth   Education Marital_Status   Income  Kidhome  \\\n0      5524        1957  Graduation         Single  58138.0        0   \n1      2174        1954  Graduation         Single  46344.0        1   \n2      4141        1965  Graduation       Together  71613.0        0   \n3      6182        1984  Graduation       Together  26646.0        1   \n4      5324        1981         PhD        Married  58293.0        1   \n...     ...         ...         ...            ...      ...      ...   \n2235  10870        1967  Graduation        Married  61223.0        0   \n2236   4001        1946         PhD       Together  64014.0        2   \n2237   7270        1981  Graduation       Divorced  56981.0        0   \n2238   8235        1956      Master       Together  69245.0        0   \n2239   9405        1954         PhD        Married  52869.0        1   \n\n      Teenhome Dt_Customer  Recency  MntWines  ...  NumWebVisitsMonth  \\\n0            0  04-09-2012       58       635  ...                  7   \n1            1  08-03-2014       38        11  ...                  5   \n2            0  21-08-2013       26       426  ...                  4   \n3            0  10-02-2014       26        11  ...                  6   \n4            0  19-01-2014       94       173  ...                  5   \n...        ...         ...      ...       ...  ...                ...   \n2235         1  13-06-2013       46       709  ...                  5   \n2236         1  10-06-2014       56       406  ...                  7   \n2237         0  25-01-2014       91       908  ...                  6   \n2238         1  24-01-2014        8       428  ...                  3   \n2239         1  15-10-2012       40        84  ...                  7   \n\n      AcceptedCmp3  AcceptedCmp4  AcceptedCmp5  AcceptedCmp1  AcceptedCmp2  \\\n0                0             0             0             0             0   \n1                0             0             0             0             0   \n2                0             0             0             0             0   \n3                0             0             0             0             0   \n4                0             0             0             0             0   \n...            ...           ...           ...           ...           ...   \n2235             0             0             0             0             0   \n2236             0             0             0             1             0   \n2237             0             1             0             0             0   \n2238             0             0             0             0             0   \n2239             0             0             0             0             0   \n\n      Complain  Z_CostContact  Z_Revenue  Response  \n0            0              3         11         1  \n1            0              3         11         0  \n2            0              3         11         0  \n3            0              3         11         0  \n4            0              3         11         0  \n...        ...            ...        ...       ...  \n2235         0              3         11         0  \n2236         0              3         11         0  \n2237         0              3         11         0  \n2238         0              3         11         0  \n2239         0              3         11         1  \n\n[2240 rows x 29 columns]",
      "text/html": "<div>\n<style scoped>\n    .dataframe tbody tr th:only-of-type {\n        vertical-align: middle;\n    }\n\n    .dataframe tbody tr th {\n        vertical-align: top;\n    }\n\n    .dataframe thead th {\n        text-align: right;\n    }\n</style>\n<table border=\"1\" class=\"dataframe\">\n  <thead>\n    <tr style=\"text-align: right;\">\n      <th></th>\n      <th>ID</th>\n      <th>Year_Birth</th>\n      <th>Education</th>\n      <th>Marital_Status</th>\n      <th>Income</th>\n      <th>Kidhome</th>\n      <th>Teenhome</th>\n      <th>Dt_Customer</th>\n      <th>Recency</th>\n      <th>MntWines</th>\n      <th>...</th>\n      <th>NumWebVisitsMonth</th>\n      <th>AcceptedCmp3</th>\n      <th>AcceptedCmp4</th>\n      <th>AcceptedCmp5</th>\n      <th>AcceptedCmp1</th>\n      <th>AcceptedCmp2</th>\n      <th>Complain</th>\n      <th>Z_CostContact</th>\n      <th>Z_Revenue</th>\n      <th>Response</th>\n    </tr>\n  </thead>\n  <tbody>\n    <tr>\n      <th>0</th>\n      <td>5524</td>\n      <td>1957</td>\n      <td>Graduation</td>\n      <td>Single</td>\n      <td>58138.0</td>\n      <td>0</td>\n      <td>0</td>\n      <td>04-09-2012</td>\n      <td>58</td>\n      <td>635</td>\n      <td>...</td>\n      <td>7</td>\n      <td>0</td>\n      <td>0</td>\n      <td>0</td>\n      <td>0</td>\n      <td>0</td>\n      <td>0</td>\n      <td>3</td>\n      <td>11</td>\n      <td>1</td>\n    </tr>\n    <tr>\n      <th>1</th>\n      <td>2174</td>\n      <td>1954</td>\n      <td>Graduation</td>\n      <td>Single</td>\n      <td>46344.0</td>\n      <td>1</td>\n      <td>1</td>\n      <td>08-03-2014</td>\n      <td>38</td>\n      <td>11</td>\n      <td>...</td>\n      <td>5</td>\n      <td>0</td>\n      <td>0</td>\n      <td>0</td>\n      <td>0</td>\n      <td>0</td>\n      <td>0</td>\n      <td>3</td>\n      <td>11</td>\n      <td>0</td>\n    </tr>\n    <tr>\n      <th>2</th>\n      <td>4141</td>\n      <td>1965</td>\n      <td>Graduation</td>\n      <td>Together</td>\n      <td>71613.0</td>\n      <td>0</td>\n      <td>0</td>\n      <td>21-08-2013</td>\n      <td>26</td>\n      <td>426</td>\n      <td>...</td>\n      <td>4</td>\n      <td>0</td>\n      <td>0</td>\n      <td>0</td>\n      <td>0</td>\n      <td>0</td>\n      <td>0</td>\n      <td>3</td>\n      <td>11</td>\n      <td>0</td>\n    </tr>\n    <tr>\n      <th>3</th>\n      <td>6182</td>\n      <td>1984</td>\n      <td>Graduation</td>\n      <td>Together</td>\n      <td>26646.0</td>\n      <td>1</td>\n      <td>0</td>\n      <td>10-02-2014</td>\n      <td>26</td>\n      <td>11</td>\n      <td>...</td>\n      <td>6</td>\n      <td>0</td>\n      <td>0</td>\n      <td>0</td>\n      <td>0</td>\n      <td>0</td>\n      <td>0</td>\n      <td>3</td>\n      <td>11</td>\n      <td>0</td>\n    </tr>\n    <tr>\n      <th>4</th>\n      <td>5324</td>\n      <td>1981</td>\n      <td>PhD</td>\n      <td>Married</td>\n      <td>58293.0</td>\n      <td>1</td>\n      <td>0</td>\n      <td>19-01-2014</td>\n      <td>94</td>\n      <td>173</td>\n      <td>...</td>\n      <td>5</td>\n      <td>0</td>\n      <td>0</td>\n      <td>0</td>\n      <td>0</td>\n      <td>0</td>\n      <td>0</td>\n      <td>3</td>\n      <td>11</td>\n      <td>0</td>\n    </tr>\n    <tr>\n      <th>...</th>\n      <td>...</td>\n      <td>...</td>\n      <td>...</td>\n      <td>...</td>\n      <td>...</td>\n      <td>...</td>\n      <td>...</td>\n      <td>...</td>\n      <td>...</td>\n      <td>...</td>\n      <td>...</td>\n      <td>...</td>\n      <td>...</td>\n      <td>...</td>\n      <td>...</td>\n      <td>...</td>\n      <td>...</td>\n      <td>...</td>\n      <td>...</td>\n      <td>...</td>\n      <td>...</td>\n    </tr>\n    <tr>\n      <th>2235</th>\n      <td>10870</td>\n      <td>1967</td>\n      <td>Graduation</td>\n      <td>Married</td>\n      <td>61223.0</td>\n      <td>0</td>\n      <td>1</td>\n      <td>13-06-2013</td>\n      <td>46</td>\n      <td>709</td>\n      <td>...</td>\n      <td>5</td>\n      <td>0</td>\n      <td>0</td>\n      <td>0</td>\n      <td>0</td>\n      <td>0</td>\n      <td>0</td>\n      <td>3</td>\n      <td>11</td>\n      <td>0</td>\n    </tr>\n    <tr>\n      <th>2236</th>\n      <td>4001</td>\n      <td>1946</td>\n      <td>PhD</td>\n      <td>Together</td>\n      <td>64014.0</td>\n      <td>2</td>\n      <td>1</td>\n      <td>10-06-2014</td>\n      <td>56</td>\n      <td>406</td>\n      <td>...</td>\n      <td>7</td>\n      <td>0</td>\n      <td>0</td>\n      <td>0</td>\n      <td>1</td>\n      <td>0</td>\n      <td>0</td>\n      <td>3</td>\n      <td>11</td>\n      <td>0</td>\n    </tr>\n    <tr>\n      <th>2237</th>\n      <td>7270</td>\n      <td>1981</td>\n      <td>Graduation</td>\n      <td>Divorced</td>\n      <td>56981.0</td>\n      <td>0</td>\n      <td>0</td>\n      <td>25-01-2014</td>\n      <td>91</td>\n      <td>908</td>\n      <td>...</td>\n      <td>6</td>\n      <td>0</td>\n      <td>1</td>\n      <td>0</td>\n      <td>0</td>\n      <td>0</td>\n      <td>0</td>\n      <td>3</td>\n      <td>11</td>\n      <td>0</td>\n    </tr>\n    <tr>\n      <th>2238</th>\n      <td>8235</td>\n      <td>1956</td>\n      <td>Master</td>\n      <td>Together</td>\n      <td>69245.0</td>\n      <td>0</td>\n      <td>1</td>\n      <td>24-01-2014</td>\n      <td>8</td>\n      <td>428</td>\n      <td>...</td>\n      <td>3</td>\n      <td>0</td>\n      <td>0</td>\n      <td>0</td>\n      <td>0</td>\n      <td>0</td>\n      <td>0</td>\n      <td>3</td>\n      <td>11</td>\n      <td>0</td>\n    </tr>\n    <tr>\n      <th>2239</th>\n      <td>9405</td>\n      <td>1954</td>\n      <td>PhD</td>\n      <td>Married</td>\n      <td>52869.0</td>\n      <td>1</td>\n      <td>1</td>\n      <td>15-10-2012</td>\n      <td>40</td>\n      <td>84</td>\n      <td>...</td>\n      <td>7</td>\n      <td>0</td>\n      <td>0</td>\n      <td>0</td>\n      <td>0</td>\n      <td>0</td>\n      <td>0</td>\n      <td>3</td>\n      <td>11</td>\n      <td>1</td>\n    </tr>\n  </tbody>\n</table>\n<p>2240 rows × 29 columns</p>\n</div>"
     },
     "execution_count": 6,
     "metadata": {},
     "output_type": "execute_result"
    }
   ],
   "source": [
    "df = pd.read_csv('../data/marketing_campaign.csv', delimiter='\\t')\n",
    "df"
   ],
   "metadata": {
    "collapsed": false,
    "pycharm": {
     "name": "#%%\n"
    }
   }
  },
  {
   "cell_type": "code",
   "execution_count": 19,
   "outputs": [
    {
     "name": "stdout",
     "output_type": "stream",
     "text": [
      "<class 'pandas.core.frame.DataFrame'>\n",
      "RangeIndex: 2240 entries, 0 to 2239\n",
      "Data columns (total 29 columns):\n",
      " #   Column               Non-Null Count  Dtype  \n",
      "---  ------               --------------  -----  \n",
      " 0   ID                   2240 non-null   int64  \n",
      " 1   Year_Birth           2240 non-null   int64  \n",
      " 2   Education            2240 non-null   object \n",
      " 3   Marital_Status       2240 non-null   object \n",
      " 4   Income               2216 non-null   float64\n",
      " 5   Kidhome              2240 non-null   int64  \n",
      " 6   Teenhome             2240 non-null   int64  \n",
      " 7   Dt_Customer          2240 non-null   object \n",
      " 8   Recency              2240 non-null   int64  \n",
      " 9   MntWines             2240 non-null   int64  \n",
      " 10  MntFruits            2240 non-null   int64  \n",
      " 11  MntMeatProducts      2240 non-null   int64  \n",
      " 12  MntFishProducts      2240 non-null   int64  \n",
      " 13  MntSweetProducts     2240 non-null   int64  \n",
      " 14  MntGoldProds         2240 non-null   int64  \n",
      " 15  NumDealsPurchases    2240 non-null   int64  \n",
      " 16  NumWebPurchases      2240 non-null   int64  \n",
      " 17  NumCatalogPurchases  2240 non-null   int64  \n",
      " 18  NumStorePurchases    2240 non-null   int64  \n",
      " 19  NumWebVisitsMonth    2240 non-null   int64  \n",
      " 20  AcceptedCmp3         2240 non-null   int64  \n",
      " 21  AcceptedCmp4         2240 non-null   int64  \n",
      " 22  AcceptedCmp5         2240 non-null   int64  \n",
      " 23  AcceptedCmp1         2240 non-null   int64  \n",
      " 24  AcceptedCmp2         2240 non-null   int64  \n",
      " 25  Complain             2240 non-null   int64  \n",
      " 26  Z_CostContact        2240 non-null   int64  \n",
      " 27  Z_Revenue            2240 non-null   int64  \n",
      " 28  Response             2240 non-null   int64  \n",
      "dtypes: float64(1), int64(25), object(3)\n",
      "memory usage: 507.6+ KB\n"
     ]
    }
   ],
   "source": [
    "df.info()"
   ],
   "metadata": {
    "collapsed": false,
    "pycharm": {
     "name": "#%%\n"
    }
   }
  },
  {
   "cell_type": "code",
   "execution_count": 22,
   "outputs": [
    {
     "data": {
      "text/plain": "         ID  Year_Birth   Education Marital_Status   Income  Kidhome  \\\n0      5524        1957  Graduation         Single  58138.0        0   \n1      2174        1954  Graduation         Single  46344.0        1   \n2      4141        1965  Graduation       Together  71613.0        0   \n3      6182        1984  Graduation       Together  26646.0        1   \n4      5324        1981         PhD        Married  58293.0        1   \n...     ...         ...         ...            ...      ...      ...   \n2235  10870        1967  Graduation        Married  61223.0        0   \n2236   4001        1946         PhD       Together  64014.0        2   \n2237   7270        1981  Graduation       Divorced  56981.0        0   \n2238   8235        1956      Master       Together  69245.0        0   \n2239   9405        1954         PhD        Married  52869.0        1   \n\n      Teenhome Dt_Customer  Recency  MntWines  ...  NumWebVisitsMonth  \\\n0            0  2012-04-09       58       635  ...                  7   \n1            1  2014-08-03       38        11  ...                  5   \n2            0  2013-08-21       26       426  ...                  4   \n3            0  2014-10-02       26        11  ...                  6   \n4            0  2014-01-19       94       173  ...                  5   \n...        ...         ...      ...       ...  ...                ...   \n2235         1  2013-06-13       46       709  ...                  5   \n2236         1  2014-10-06       56       406  ...                  7   \n2237         0  2014-01-25       91       908  ...                  6   \n2238         1  2014-01-24        8       428  ...                  3   \n2239         1  2012-10-15       40        84  ...                  7   \n\n      AcceptedCmp3  AcceptedCmp4  AcceptedCmp5  AcceptedCmp1  AcceptedCmp2  \\\n0                0             0             0             0             0   \n1                0             0             0             0             0   \n2                0             0             0             0             0   \n3                0             0             0             0             0   \n4                0             0             0             0             0   \n...            ...           ...           ...           ...           ...   \n2235             0             0             0             0             0   \n2236             0             0             0             1             0   \n2237             0             1             0             0             0   \n2238             0             0             0             0             0   \n2239             0             0             0             0             0   \n\n      Complain  Z_CostContact  Z_Revenue  Response  \n0            0              3         11         1  \n1            0              3         11         0  \n2            0              3         11         0  \n3            0              3         11         0  \n4            0              3         11         0  \n...        ...            ...        ...       ...  \n2235         0              3         11         0  \n2236         0              3         11         0  \n2237         0              3         11         0  \n2238         0              3         11         0  \n2239         0              3         11         1  \n\n[2240 rows x 29 columns]",
      "text/html": "<div>\n<style scoped>\n    .dataframe tbody tr th:only-of-type {\n        vertical-align: middle;\n    }\n\n    .dataframe tbody tr th {\n        vertical-align: top;\n    }\n\n    .dataframe thead th {\n        text-align: right;\n    }\n</style>\n<table border=\"1\" class=\"dataframe\">\n  <thead>\n    <tr style=\"text-align: right;\">\n      <th></th>\n      <th>ID</th>\n      <th>Year_Birth</th>\n      <th>Education</th>\n      <th>Marital_Status</th>\n      <th>Income</th>\n      <th>Kidhome</th>\n      <th>Teenhome</th>\n      <th>Dt_Customer</th>\n      <th>Recency</th>\n      <th>MntWines</th>\n      <th>...</th>\n      <th>NumWebVisitsMonth</th>\n      <th>AcceptedCmp3</th>\n      <th>AcceptedCmp4</th>\n      <th>AcceptedCmp5</th>\n      <th>AcceptedCmp1</th>\n      <th>AcceptedCmp2</th>\n      <th>Complain</th>\n      <th>Z_CostContact</th>\n      <th>Z_Revenue</th>\n      <th>Response</th>\n    </tr>\n  </thead>\n  <tbody>\n    <tr>\n      <th>0</th>\n      <td>5524</td>\n      <td>1957</td>\n      <td>Graduation</td>\n      <td>Single</td>\n      <td>58138.0</td>\n      <td>0</td>\n      <td>0</td>\n      <td>2012-04-09</td>\n      <td>58</td>\n      <td>635</td>\n      <td>...</td>\n      <td>7</td>\n      <td>0</td>\n      <td>0</td>\n      <td>0</td>\n      <td>0</td>\n      <td>0</td>\n      <td>0</td>\n      <td>3</td>\n      <td>11</td>\n      <td>1</td>\n    </tr>\n    <tr>\n      <th>1</th>\n      <td>2174</td>\n      <td>1954</td>\n      <td>Graduation</td>\n      <td>Single</td>\n      <td>46344.0</td>\n      <td>1</td>\n      <td>1</td>\n      <td>2014-08-03</td>\n      <td>38</td>\n      <td>11</td>\n      <td>...</td>\n      <td>5</td>\n      <td>0</td>\n      <td>0</td>\n      <td>0</td>\n      <td>0</td>\n      <td>0</td>\n      <td>0</td>\n      <td>3</td>\n      <td>11</td>\n      <td>0</td>\n    </tr>\n    <tr>\n      <th>2</th>\n      <td>4141</td>\n      <td>1965</td>\n      <td>Graduation</td>\n      <td>Together</td>\n      <td>71613.0</td>\n      <td>0</td>\n      <td>0</td>\n      <td>2013-08-21</td>\n      <td>26</td>\n      <td>426</td>\n      <td>...</td>\n      <td>4</td>\n      <td>0</td>\n      <td>0</td>\n      <td>0</td>\n      <td>0</td>\n      <td>0</td>\n      <td>0</td>\n      <td>3</td>\n      <td>11</td>\n      <td>0</td>\n    </tr>\n    <tr>\n      <th>3</th>\n      <td>6182</td>\n      <td>1984</td>\n      <td>Graduation</td>\n      <td>Together</td>\n      <td>26646.0</td>\n      <td>1</td>\n      <td>0</td>\n      <td>2014-10-02</td>\n      <td>26</td>\n      <td>11</td>\n      <td>...</td>\n      <td>6</td>\n      <td>0</td>\n      <td>0</td>\n      <td>0</td>\n      <td>0</td>\n      <td>0</td>\n      <td>0</td>\n      <td>3</td>\n      <td>11</td>\n      <td>0</td>\n    </tr>\n    <tr>\n      <th>4</th>\n      <td>5324</td>\n      <td>1981</td>\n      <td>PhD</td>\n      <td>Married</td>\n      <td>58293.0</td>\n      <td>1</td>\n      <td>0</td>\n      <td>2014-01-19</td>\n      <td>94</td>\n      <td>173</td>\n      <td>...</td>\n      <td>5</td>\n      <td>0</td>\n      <td>0</td>\n      <td>0</td>\n      <td>0</td>\n      <td>0</td>\n      <td>0</td>\n      <td>3</td>\n      <td>11</td>\n      <td>0</td>\n    </tr>\n    <tr>\n      <th>...</th>\n      <td>...</td>\n      <td>...</td>\n      <td>...</td>\n      <td>...</td>\n      <td>...</td>\n      <td>...</td>\n      <td>...</td>\n      <td>...</td>\n      <td>...</td>\n      <td>...</td>\n      <td>...</td>\n      <td>...</td>\n      <td>...</td>\n      <td>...</td>\n      <td>...</td>\n      <td>...</td>\n      <td>...</td>\n      <td>...</td>\n      <td>...</td>\n      <td>...</td>\n      <td>...</td>\n    </tr>\n    <tr>\n      <th>2235</th>\n      <td>10870</td>\n      <td>1967</td>\n      <td>Graduation</td>\n      <td>Married</td>\n      <td>61223.0</td>\n      <td>0</td>\n      <td>1</td>\n      <td>2013-06-13</td>\n      <td>46</td>\n      <td>709</td>\n      <td>...</td>\n      <td>5</td>\n      <td>0</td>\n      <td>0</td>\n      <td>0</td>\n      <td>0</td>\n      <td>0</td>\n      <td>0</td>\n      <td>3</td>\n      <td>11</td>\n      <td>0</td>\n    </tr>\n    <tr>\n      <th>2236</th>\n      <td>4001</td>\n      <td>1946</td>\n      <td>PhD</td>\n      <td>Together</td>\n      <td>64014.0</td>\n      <td>2</td>\n      <td>1</td>\n      <td>2014-10-06</td>\n      <td>56</td>\n      <td>406</td>\n      <td>...</td>\n      <td>7</td>\n      <td>0</td>\n      <td>0</td>\n      <td>0</td>\n      <td>1</td>\n      <td>0</td>\n      <td>0</td>\n      <td>3</td>\n      <td>11</td>\n      <td>0</td>\n    </tr>\n    <tr>\n      <th>2237</th>\n      <td>7270</td>\n      <td>1981</td>\n      <td>Graduation</td>\n      <td>Divorced</td>\n      <td>56981.0</td>\n      <td>0</td>\n      <td>0</td>\n      <td>2014-01-25</td>\n      <td>91</td>\n      <td>908</td>\n      <td>...</td>\n      <td>6</td>\n      <td>0</td>\n      <td>1</td>\n      <td>0</td>\n      <td>0</td>\n      <td>0</td>\n      <td>0</td>\n      <td>3</td>\n      <td>11</td>\n      <td>0</td>\n    </tr>\n    <tr>\n      <th>2238</th>\n      <td>8235</td>\n      <td>1956</td>\n      <td>Master</td>\n      <td>Together</td>\n      <td>69245.0</td>\n      <td>0</td>\n      <td>1</td>\n      <td>2014-01-24</td>\n      <td>8</td>\n      <td>428</td>\n      <td>...</td>\n      <td>3</td>\n      <td>0</td>\n      <td>0</td>\n      <td>0</td>\n      <td>0</td>\n      <td>0</td>\n      <td>0</td>\n      <td>3</td>\n      <td>11</td>\n      <td>0</td>\n    </tr>\n    <tr>\n      <th>2239</th>\n      <td>9405</td>\n      <td>1954</td>\n      <td>PhD</td>\n      <td>Married</td>\n      <td>52869.0</td>\n      <td>1</td>\n      <td>1</td>\n      <td>2012-10-15</td>\n      <td>40</td>\n      <td>84</td>\n      <td>...</td>\n      <td>7</td>\n      <td>0</td>\n      <td>0</td>\n      <td>0</td>\n      <td>0</td>\n      <td>0</td>\n      <td>0</td>\n      <td>3</td>\n      <td>11</td>\n      <td>1</td>\n    </tr>\n  </tbody>\n</table>\n<p>2240 rows × 29 columns</p>\n</div>"
     },
     "execution_count": 22,
     "metadata": {},
     "output_type": "execute_result"
    }
   ],
   "source": [
    "df['Dt_Customer'] = pd.to_datetime(df['Dt_Customer'], format='%d/%m/%Y')\n",
    "df"
   ],
   "metadata": {
    "collapsed": false,
    "pycharm": {
     "name": "#%%\n"
    }
   }
  },
  {
   "cell_type": "code",
   "execution_count": 23,
   "outputs": [
    {
     "data": {
      "text/plain": "                 ID   Year_Birth         Income      Kidhome     Teenhome  \\\ncount   2240.000000  2240.000000    2216.000000  2240.000000  2240.000000   \nmean    5592.159821  1968.805804   52247.251354     0.444196     0.506250   \nstd     3246.662198    11.984069   25173.076661     0.538398     0.544538   \nmin        0.000000  1893.000000    1730.000000     0.000000     0.000000   \n25%     2828.250000  1959.000000   35303.000000     0.000000     0.000000   \n50%     5458.500000  1970.000000   51381.500000     0.000000     0.000000   \n75%     8427.750000  1977.000000   68522.000000     1.000000     1.000000   \nmax    11191.000000  1996.000000  666666.000000     2.000000     2.000000   \n\n           Recency     MntWines    MntFruits  MntMeatProducts  \\\ncount  2240.000000  2240.000000  2240.000000      2240.000000   \nmean     49.109375   303.935714    26.302232       166.950000   \nstd      28.962453   336.597393    39.773434       225.715373   \nmin       0.000000     0.000000     0.000000         0.000000   \n25%      24.000000    23.750000     1.000000        16.000000   \n50%      49.000000   173.500000     8.000000        67.000000   \n75%      74.000000   504.250000    33.000000       232.000000   \nmax      99.000000  1493.000000   199.000000      1725.000000   \n\n       MntFishProducts  ...  NumWebVisitsMonth  AcceptedCmp3  AcceptedCmp4  \\\ncount      2240.000000  ...        2240.000000   2240.000000   2240.000000   \nmean         37.525446  ...           5.316518      0.072768      0.074554   \nstd          54.628979  ...           2.426645      0.259813      0.262728   \nmin           0.000000  ...           0.000000      0.000000      0.000000   \n25%           3.000000  ...           3.000000      0.000000      0.000000   \n50%          12.000000  ...           6.000000      0.000000      0.000000   \n75%          50.000000  ...           7.000000      0.000000      0.000000   \nmax         259.000000  ...          20.000000      1.000000      1.000000   \n\n       AcceptedCmp5  AcceptedCmp1  AcceptedCmp2     Complain  Z_CostContact  \\\ncount   2240.000000   2240.000000   2240.000000  2240.000000         2240.0   \nmean       0.072768      0.064286      0.013393     0.009375            3.0   \nstd        0.259813      0.245316      0.114976     0.096391            0.0   \nmin        0.000000      0.000000      0.000000     0.000000            3.0   \n25%        0.000000      0.000000      0.000000     0.000000            3.0   \n50%        0.000000      0.000000      0.000000     0.000000            3.0   \n75%        0.000000      0.000000      0.000000     0.000000            3.0   \nmax        1.000000      1.000000      1.000000     1.000000            3.0   \n\n       Z_Revenue     Response  \ncount     2240.0  2240.000000  \nmean        11.0     0.149107  \nstd          0.0     0.356274  \nmin         11.0     0.000000  \n25%         11.0     0.000000  \n50%         11.0     0.000000  \n75%         11.0     0.000000  \nmax         11.0     1.000000  \n\n[8 rows x 26 columns]",
      "text/html": "<div>\n<style scoped>\n    .dataframe tbody tr th:only-of-type {\n        vertical-align: middle;\n    }\n\n    .dataframe tbody tr th {\n        vertical-align: top;\n    }\n\n    .dataframe thead th {\n        text-align: right;\n    }\n</style>\n<table border=\"1\" class=\"dataframe\">\n  <thead>\n    <tr style=\"text-align: right;\">\n      <th></th>\n      <th>ID</th>\n      <th>Year_Birth</th>\n      <th>Income</th>\n      <th>Kidhome</th>\n      <th>Teenhome</th>\n      <th>Recency</th>\n      <th>MntWines</th>\n      <th>MntFruits</th>\n      <th>MntMeatProducts</th>\n      <th>MntFishProducts</th>\n      <th>...</th>\n      <th>NumWebVisitsMonth</th>\n      <th>AcceptedCmp3</th>\n      <th>AcceptedCmp4</th>\n      <th>AcceptedCmp5</th>\n      <th>AcceptedCmp1</th>\n      <th>AcceptedCmp2</th>\n      <th>Complain</th>\n      <th>Z_CostContact</th>\n      <th>Z_Revenue</th>\n      <th>Response</th>\n    </tr>\n  </thead>\n  <tbody>\n    <tr>\n      <th>count</th>\n      <td>2240.000000</td>\n      <td>2240.000000</td>\n      <td>2216.000000</td>\n      <td>2240.000000</td>\n      <td>2240.000000</td>\n      <td>2240.000000</td>\n      <td>2240.000000</td>\n      <td>2240.000000</td>\n      <td>2240.000000</td>\n      <td>2240.000000</td>\n      <td>...</td>\n      <td>2240.000000</td>\n      <td>2240.000000</td>\n      <td>2240.000000</td>\n      <td>2240.000000</td>\n      <td>2240.000000</td>\n      <td>2240.000000</td>\n      <td>2240.000000</td>\n      <td>2240.0</td>\n      <td>2240.0</td>\n      <td>2240.000000</td>\n    </tr>\n    <tr>\n      <th>mean</th>\n      <td>5592.159821</td>\n      <td>1968.805804</td>\n      <td>52247.251354</td>\n      <td>0.444196</td>\n      <td>0.506250</td>\n      <td>49.109375</td>\n      <td>303.935714</td>\n      <td>26.302232</td>\n      <td>166.950000</td>\n      <td>37.525446</td>\n      <td>...</td>\n      <td>5.316518</td>\n      <td>0.072768</td>\n      <td>0.074554</td>\n      <td>0.072768</td>\n      <td>0.064286</td>\n      <td>0.013393</td>\n      <td>0.009375</td>\n      <td>3.0</td>\n      <td>11.0</td>\n      <td>0.149107</td>\n    </tr>\n    <tr>\n      <th>std</th>\n      <td>3246.662198</td>\n      <td>11.984069</td>\n      <td>25173.076661</td>\n      <td>0.538398</td>\n      <td>0.544538</td>\n      <td>28.962453</td>\n      <td>336.597393</td>\n      <td>39.773434</td>\n      <td>225.715373</td>\n      <td>54.628979</td>\n      <td>...</td>\n      <td>2.426645</td>\n      <td>0.259813</td>\n      <td>0.262728</td>\n      <td>0.259813</td>\n      <td>0.245316</td>\n      <td>0.114976</td>\n      <td>0.096391</td>\n      <td>0.0</td>\n      <td>0.0</td>\n      <td>0.356274</td>\n    </tr>\n    <tr>\n      <th>min</th>\n      <td>0.000000</td>\n      <td>1893.000000</td>\n      <td>1730.000000</td>\n      <td>0.000000</td>\n      <td>0.000000</td>\n      <td>0.000000</td>\n      <td>0.000000</td>\n      <td>0.000000</td>\n      <td>0.000000</td>\n      <td>0.000000</td>\n      <td>...</td>\n      <td>0.000000</td>\n      <td>0.000000</td>\n      <td>0.000000</td>\n      <td>0.000000</td>\n      <td>0.000000</td>\n      <td>0.000000</td>\n      <td>0.000000</td>\n      <td>3.0</td>\n      <td>11.0</td>\n      <td>0.000000</td>\n    </tr>\n    <tr>\n      <th>25%</th>\n      <td>2828.250000</td>\n      <td>1959.000000</td>\n      <td>35303.000000</td>\n      <td>0.000000</td>\n      <td>0.000000</td>\n      <td>24.000000</td>\n      <td>23.750000</td>\n      <td>1.000000</td>\n      <td>16.000000</td>\n      <td>3.000000</td>\n      <td>...</td>\n      <td>3.000000</td>\n      <td>0.000000</td>\n      <td>0.000000</td>\n      <td>0.000000</td>\n      <td>0.000000</td>\n      <td>0.000000</td>\n      <td>0.000000</td>\n      <td>3.0</td>\n      <td>11.0</td>\n      <td>0.000000</td>\n    </tr>\n    <tr>\n      <th>50%</th>\n      <td>5458.500000</td>\n      <td>1970.000000</td>\n      <td>51381.500000</td>\n      <td>0.000000</td>\n      <td>0.000000</td>\n      <td>49.000000</td>\n      <td>173.500000</td>\n      <td>8.000000</td>\n      <td>67.000000</td>\n      <td>12.000000</td>\n      <td>...</td>\n      <td>6.000000</td>\n      <td>0.000000</td>\n      <td>0.000000</td>\n      <td>0.000000</td>\n      <td>0.000000</td>\n      <td>0.000000</td>\n      <td>0.000000</td>\n      <td>3.0</td>\n      <td>11.0</td>\n      <td>0.000000</td>\n    </tr>\n    <tr>\n      <th>75%</th>\n      <td>8427.750000</td>\n      <td>1977.000000</td>\n      <td>68522.000000</td>\n      <td>1.000000</td>\n      <td>1.000000</td>\n      <td>74.000000</td>\n      <td>504.250000</td>\n      <td>33.000000</td>\n      <td>232.000000</td>\n      <td>50.000000</td>\n      <td>...</td>\n      <td>7.000000</td>\n      <td>0.000000</td>\n      <td>0.000000</td>\n      <td>0.000000</td>\n      <td>0.000000</td>\n      <td>0.000000</td>\n      <td>0.000000</td>\n      <td>3.0</td>\n      <td>11.0</td>\n      <td>0.000000</td>\n    </tr>\n    <tr>\n      <th>max</th>\n      <td>11191.000000</td>\n      <td>1996.000000</td>\n      <td>666666.000000</td>\n      <td>2.000000</td>\n      <td>2.000000</td>\n      <td>99.000000</td>\n      <td>1493.000000</td>\n      <td>199.000000</td>\n      <td>1725.000000</td>\n      <td>259.000000</td>\n      <td>...</td>\n      <td>20.000000</td>\n      <td>1.000000</td>\n      <td>1.000000</td>\n      <td>1.000000</td>\n      <td>1.000000</td>\n      <td>1.000000</td>\n      <td>1.000000</td>\n      <td>3.0</td>\n      <td>11.0</td>\n      <td>1.000000</td>\n    </tr>\n  </tbody>\n</table>\n<p>8 rows × 26 columns</p>\n</div>"
     },
     "execution_count": 23,
     "metadata": {},
     "output_type": "execute_result"
    }
   ],
   "source": [
    "df.describe()"
   ],
   "metadata": {
    "collapsed": false,
    "pycharm": {
     "name": "#%%\n"
    }
   }
  },
  {
   "cell_type": "code",
   "execution_count": 9,
   "outputs": [
    {
     "data": {
      "text/plain": "ID\n0        1\n7375     1\n7348     1\n7349     1\n7352     1\n        ..\n3698     1\n3697     1\n3696     1\n3690     1\n11191    1\nLength: 2240, dtype: int64"
     },
     "execution_count": 9,
     "metadata": {},
     "output_type": "execute_result"
    }
   ],
   "source": [
    "df.value_counts('ID', sort=True, ascending=False)"
   ],
   "metadata": {
    "collapsed": false,
    "pycharm": {
     "name": "#%%\n"
    }
   }
  },
  {
   "cell_type": "code",
   "execution_count": 76,
   "outputs": [
    {
     "data": {
      "text/plain": "<BarContainer object of 103 artists>"
     },
     "execution_count": 76,
     "metadata": {},
     "output_type": "execute_result"
    },
    {
     "data": {
      "text/plain": "<Figure size 1080x720 with 1 Axes>",
      "image/png": "[encoded data removed]"
     },
     "metadata": {
      "needs_background": "light"
     },
     "output_type": "display_data"
    }
   ],
   "source": [
    "import matplotlib.pyplot as plt\n",
    "\n",
    "yb = df.sort_values('Year_Birth').value_counts('Year_Birth', sort=False)\n",
    "yb = yb.reindex(range(yb.index.min(), yb.index.max()), fill_value=0)\n",
    "\n",
    "plt.figure(figsize=(15, 10))\n",
    "plt.bar(x=yb.index, height=yb, data=yb);"
   ],
   "metadata": {
    "collapsed": false,
    "pycharm": {
     "name": "#%%\n"
    }
   }
  },
  {
   "cell_type": "markdown",
   "source": [
    "We'll need to get rid of the outliers.  As hard as it is to say outloud, I don't think folks born prior to 1943 are likely our customers anymore."
   ],
   "metadata": {
    "collapsed": false,
    "pycharm": {
     "name": "#%% md\n"
    }
   }
  },
  {
   "cell_type": "code",
   "execution_count": 81,
   "outputs": [],
   "source": [
    "df = df[df['Year_Birth'] > 1942].copy()"
   ],
   "metadata": {
    "collapsed": false,
    "pycharm": {
     "name": "#%%\n"
    }
   }
  },
  {
   "cell_type": "markdown",
   "source": [
    "Let's plot again to see the new distribution."
   ],
   "metadata": {
    "collapsed": false,
    "pycharm": {
     "name": "#%% md\n"
    }
   }
  },
  {
   "cell_type": "code",
   "execution_count": 85,
   "outputs": [
    {
     "data": {
      "text/plain": "<Figure size 1080x720 with 1 Axes>",
      "image/png": "[encoded data removed]"
     },
     "metadata": {
      "needs_background": "light"
     },
     "output_type": "display_data"
    }
   ],
   "source": [
    "yb = df.sort_values('Year_Birth').value_counts('Year_Birth', sort=False)\n",
    "yb = yb.reindex(range(yb.index.min(), yb.index.max()), fill_value=0)\n",
    "\n",
    "plt.figure(figsize=(15, 10))\n",
    "plt.bar(x=yb.index, height=yb, data=yb)\n",
    "plt.xlabel('Year of Birth')\n",
    "plt.ylabel('Num Customers');"
   ],
   "metadata": {
    "collapsed": false,
    "pycharm": {
     "name": "#%%\n"
    }
   }
  },
  {
   "cell_type": "markdown",
   "source": [
    "Let's also check the ditribution for recent purchases because there may be some customers who no longer shop with us and they may not be the best choice when trying profile our current customers."
   ],
   "metadata": {
    "collapsed": false,
    "pycharm": {
     "name": "#%% md\n"
    }
   }
  },
  {
   "cell_type": "code",
   "execution_count": 86,
   "outputs": [
    {
     "data": {
      "text/plain": "<Figure size 1080x720 with 1 Axes>",
      "image/png": "[encoded data removed]"
     },
     "metadata": {
      "needs_background": "light"
     },
     "output_type": "display_data"
    }
   ],
   "source": [
    "rc = df['Recency'].value_counts(sort=False)\n",
    "rc = rc.reindex(range(rc.index.min(), rc.index.max()), fill_value=0)\n",
    "\n",
    "plt.figure(figsize=(15, 10))\n",
    "plt.bar(x=rc.index, height=rc, data=rc)\n",
    "plt.xlabel('Days Since Last Purchase')\n",
    "plt.ylabel('Num Customers');"
   ],
   "metadata": {
    "collapsed": false,
    "pycharm": {
     "name": "#%%\n"
    }
   }
  },
  {
   "cell_type": "markdown",
   "source": [
    "Ok, doesn't look the the stalest purchase in the dataset was more than 100 days.  That's workable."
   ],
   "metadata": {
    "collapsed": false,
    "pycharm": {
     "name": "#%% md\n"
    }
   }
  },
  {
   "cell_type": "markdown",
   "source": [
    "Let's next take a quick peek at our target variable distributions."
   ],
   "metadata": {
    "collapsed": false,
    "pycharm": {
     "name": "#%% md\n"
    }
   }
  },
  {
   "cell_type": "code",
   "execution_count": 104,
   "outputs": [
    {
     "data": {
      "text/plain": "                 0    1  success_rate\nAcceptedCmp1  2091  144      0.064430\nAcceptedCmp2  2205   30      0.013423\nAcceptedCmp3  2072  163      0.072931\nAcceptedCmp4  2068  167      0.074720\nAcceptedCmp5  2074  161      0.072036\nResponse      1901  334      0.149441",
      "text/html": "<div>\n<style scoped>\n    .dataframe tbody tr th:only-of-type {\n        vertical-align: middle;\n    }\n\n    .dataframe tbody tr th {\n        vertical-align: top;\n    }\n\n    .dataframe thead th {\n        text-align: right;\n    }\n</style>\n<table border=\"1\" class=\"dataframe\">\n  <thead>\n    <tr style=\"text-align: right;\">\n      <th></th>\n      <th>0</th>\n      <th>1</th>\n      <th>success_rate</th>\n    </tr>\n  </thead>\n  <tbody>\n    <tr>\n      <th>AcceptedCmp1</th>\n      <td>2091</td>\n      <td>144</td>\n      <td>0.064430</td>\n    </tr>\n    <tr>\n      <th>AcceptedCmp2</th>\n      <td>2205</td>\n      <td>30</td>\n      <td>0.013423</td>\n    </tr>\n    <tr>\n      <th>AcceptedCmp3</th>\n      <td>2072</td>\n      <td>163</td>\n      <td>0.072931</td>\n    </tr>\n    <tr>\n      <th>AcceptedCmp4</th>\n      <td>2068</td>\n      <td>167</td>\n      <td>0.074720</td>\n    </tr>\n    <tr>\n      <th>AcceptedCmp5</th>\n      <td>2074</td>\n      <td>161</td>\n      <td>0.072036</td>\n    </tr>\n    <tr>\n      <th>Response</th>\n      <td>1901</td>\n      <td>334</td>\n      <td>0.149441</td>\n    </tr>\n  </tbody>\n</table>\n</div>"
     },
     "execution_count": 104,
     "metadata": {},
     "output_type": "execute_result"
    }
   ],
   "source": [
    "accpt = df[['AcceptedCmp1', 'AcceptedCmp2', 'AcceptedCmp3', 'AcceptedCmp4', 'AcceptedCmp5', 'Response']].apply(pd.Series.value_counts).T\n",
    "accpt['success_rate'] = accpt[1] / (accpt[0] + accpt[1])\n",
    "accpt"
   ],
   "metadata": {
    "collapsed": false,
    "pycharm": {
     "name": "#%%\n"
    }
   }
  },
  {
   "cell_type": "code",
   "execution_count": 111,
   "outputs": [
    {
     "data": {
      "text/plain": "<AxesSubplot:>"
     },
     "execution_count": 111,
     "metadata": {},
     "output_type": "execute_result"
    },
    {
     "data": {
      "text/plain": "<Figure size 432x288 with 1 Axes>",
      "image/png": "[encoded data removed]"
     },
     "metadata": {
      "needs_background": "light"
     },
     "output_type": "display_data"
    }
   ],
   "source": [
    "accpt.plot(kind='barh', y='success_rate')"
   ],
   "metadata": {
    "collapsed": false,
    "pycharm": {
     "name": "#%%\n"
    }
   }
  },
  {
   "cell_type": "code",
   "execution_count": 103,
   "outputs": [
    {
     "data": {
      "text/plain": "<AxesSubplot:>"
     },
     "execution_count": 103,
     "metadata": {},
     "output_type": "execute_result"
    },
    {
     "data": {
      "text/plain": "<Figure size 432x288 with 1 Axes>",
      "image/png": "[encoded data removed]"
     },
     "metadata": {
      "needs_background": "light"
     },
     "output_type": "display_data"
    }
   ],
   "source": [
    "df['NumDealsPurchases'].value_counts().plot(kind='bar')"
   ],
   "metadata": {
    "collapsed": false,
    "pycharm": {
     "name": "#%%\n"
    }
   }
  },
  {
   "cell_type": "markdown",
   "source": [
    "At this point, there a few ways we can go with this analysis.  I'll list a couple of thoughts here.\n",
    "\n",
    "We can look at segmenting our customers as people and then figure out which customers are spending the most on our products.  We can use these customer segments to determine which segments of customers are responding most to our marketing campaigns and figure out what we're doing right on those and do more of it.  Or we can use the customer segments for figure out which customers aren't responding to our marketing campaigns and try to determine how we can better capture their attention.\n",
    "\n",
    "Another option is to create a new feature using the campaign features that determines `1 Customer Responded to Any Campaign` or `0 They didn't`.  Using this new feature to do a sort of binary classification so when we get new customers, we can more easily identify those we should send out marketing materials to. This could save the company money by not sending materials to customers who likely wouldn't respond."
   ],
   "metadata": {
    "collapsed": false,
    "pycharm": {
     "name": "#%% md\n"
    }
   }
  },
  {
   "cell_type": "markdown",
   "source": [
    "Let's start with the binary classification problem.  At least this way we can eliminate waste by not sending customers marketing materials they aren't going to use.  This could also increase revenue through the ability to more easily identify customers who are likely to respond to our campaigns.  This exercise also won't cost the company any money to perform above our salary.  All in all, this seems the best place to start for now."
   ],
   "metadata": {
    "collapsed": false,
    "pycharm": {
     "name": "#%% md\n"
    }
   }
  },
  {
   "cell_type": "code",
   "execution_count": null,
   "outputs": [],
   "source": [],
   "metadata": {
    "collapsed": false,
    "pycharm": {
     "name": "#%%\n"
    }
   }
  },
  {
   "cell_type": "code",
   "execution_count": null,
   "outputs": [],
   "source": [],
   "metadata": {
    "collapsed": false,
    "pycharm": {
     "name": "#%%\n"
    }
   }
  },
  {
   "cell_type": "code",
   "execution_count": null,
   "outputs": [],
   "source": [],
   "metadata": {
    "collapsed": false,
    "pycharm": {
     "name": "#%%\n"
    }
   }
  },
  {
   "cell_type": "code",
   "execution_count": null,
   "outputs": [],
   "source": [],
   "metadata": {
    "collapsed": false,
    "pycharm": {
     "name": "#%%\n"
    }
   }
  }
 ],
 "metadata": {
  "kernelspec": {
   "display_name": "Python 3",
   "language": "python",
   "name": "python3"
  },
  "language_info": {
   "codemirror_mode": {
    "name": "ipython",
    "version": 2
   },
   "file_extension": ".py",
   "mimetype": "text/x-python",
   "name": "python",
   "nbconvert_exporter": "python",
   "pygments_lexer": "ipython2",
   "version": "2.7.6"
  }
 },
 "nbformat": 4,
 "nbformat_minor": 0
}